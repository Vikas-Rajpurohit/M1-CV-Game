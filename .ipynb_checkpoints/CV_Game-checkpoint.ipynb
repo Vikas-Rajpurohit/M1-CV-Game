{
 "cells": [
  {
   "cell_type": "code",
   "execution_count": 2,
   "id": "6877b318",
   "metadata": {},
   "outputs": [],
   "source": [
    "import cv2\n",
    "import mediapipe as mp\n",
    "import pyautogui\n",
    "import math\n",
    "import time"
   ]
  },
  {
   "cell_type": "code",
   "execution_count": 80,
   "id": "da989fce",
   "metadata": {},
   "outputs": [],
   "source": [
    "# Function to draw circles on landmarks\n",
    "def draw_landmarks(image, landmarks):\n",
    "    points = [landmarks[4],landmarks[8],landmarks[12]]\n",
    "    for landmark in points:\n",
    "        x, y = int(landmark.x * image.shape[1]), int(landmark.y * image.shape[0])\n",
    "        cv2.circle(image, (x, y), 5, (0, 255, 0), -1)"
   ]
  },
  {
   "cell_type": "code",
   "execution_count": 13,
   "id": "7ff566c9",
   "metadata": {},
   "outputs": [],
   "source": [
    "# MediaPipe initialization\n",
    "mp_drawing = mp.solutions.drawing_utils\n",
    "mp_hands = mp.solutions.hands\n",
    "\n",
    "# Go to display and change this variables\n",
    "SCREEN_WIDTH, SCREEN_HEIGHT = 1920, 1080\n",
    "\n",
    "# Capture video from webcam\n",
    "cap = cv2.VideoCapture(0)\n",
    "\n",
    "# Configure performance optimizations\n",
    "FRAME_WIDTH = 480\n",
    "FRAME_HEIGHT = 350\n",
    "THROTTLE_TIME = 0.001  # Delay between cursor movements in seconds\n",
    "\n",
    "# Initialize variables for cursor movement\n",
    "last_move_time = time.time()\n",
    "mouse_button_pressed = False\n",
    "\n",
    "with mp_hands.Hands(static_image_mode=False, max_num_hands=1, min_detection_confidence=0.7, min_tracking_confidence=0.9) as hands:\n",
    "    while cap.isOpened():\n",
    "        success, frame = cap.read()\n",
    "        #frame = cv2.resize(frame, (FRAME_WIDTH, FRAME_HEIGHT))\n",
    "        image = cv2.flip(frame, 1)\n",
    "        if not success:\n",
    "            break\n",
    "\n",
    "        # Convert the BGR image to RGB and process it\n",
    "        image_rgb = cv2.cvtColor(image, cv2.COLOR_BGR2RGB)\n",
    "        results = hands.process(image_rgb)\n",
    "\n",
    "        # Detect hand and perform actions\n",
    "        if results.multi_hand_landmarks:\n",
    "            for hand_landmarks in results.multi_hand_landmarks:\n",
    "                landmarks = hand_landmarks.landmark\n",
    "                \n",
    "                # If you want to draw landmarks\n",
    "                # draw_landmarks(image, landmarks)\n",
    "\n",
    "                # Handling right click\n",
    "                click = landmarks[4].y - landmarks[8].y\n",
    "                if click < 0.03:\n",
    "                    pyautogui.leftClick()\n",
    "\n",
    "                # Handling mouse press\n",
    "                press = landmarks[12].y - landmarks[8].y\n",
    "                if press < 0.03:\n",
    "                    if not mouse_button_pressed:\n",
    "                        pyautogui.mouseDown()\n",
    "                        mouse_button_pressed = True\n",
    "                else:\n",
    "                    if mouse_button_pressed:\n",
    "                        pyautogui.mouseUp()\n",
    "                        mouse_button_pressed = False\n",
    "\n",
    "                # For moving cursor\n",
    "                if time.time() - last_move_time >= THROTTLE_TIME:\n",
    "                    x = int(landmarks[8].x * SCREEN_WIDTH)\n",
    "                    y = int(landmarks[8].y * SCREEN_HEIGHT)\n",
    "                    pyautogui.moveTo(x, y)\n",
    "                    last_move_time = time.time()\n",
    "\n",
    "        cv2.imshow('Hand Detection', image)\n",
    "\n",
    "        if cv2.waitKey(5) & 0xFF == 27:  # ESC key to exit\n",
    "            break\n",
    "\n",
    "cap.release()\n",
    "cv2.destroyAllWindows()"
   ]
  },
  {
   "cell_type": "code",
   "execution_count": 5,
   "id": "279c632b",
   "metadata": {},
   "outputs": [],
   "source": [
    "cap.release()\n",
    "cv2.destroyAllWindows()"
   ]
  },
  {
   "cell_type": "code",
   "execution_count": null,
   "id": "0617e473",
   "metadata": {},
   "outputs": [],
   "source": []
  }
 ],
 "metadata": {
  "kernelspec": {
   "display_name": "Python 3 (ipykernel)",
   "language": "python",
   "name": "python3"
  },
  "language_info": {
   "codemirror_mode": {
    "name": "ipython",
    "version": 3
   },
   "file_extension": ".py",
   "mimetype": "text/x-python",
   "name": "python",
   "nbconvert_exporter": "python",
   "pygments_lexer": "ipython3",
   "version": "3.10.4"
  }
 },
 "nbformat": 4,
 "nbformat_minor": 5
}
